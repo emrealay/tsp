{
 "cells": [
  {
   "cell_type": "markdown",
   "metadata": {},
   "source": [
    "# TRAVELING SALESMAN PROBLEM\n",
    "\n",
    "The traveling salesman problem (also called the traveling salesperson problem or TSP) asks the following question: \"Given a list of cities and the distances between each pair of cities, what is the shortest possible route that visits each city exactly once and returns to the origin city?\"\n",
    "\n",
    "In this project, I am going to solve different TSPs with different approaches. I have three different problem sets with 51 cities, 101 cities, and 130 cities.\n",
    "\n",
    "I am going to use following approaches to solve the TSPs:\n",
    "* Nearest Neighbor\n",
    "* 2-OPT\n",
    "* Nearest Neighbor + 2-OPT (Hybrid)\n",
    "* Particle Swarm Optimization\n",
    "* COTS Solution (Google OR Tools)\n",
    "\n",
    "In this report, I am going to provide solutions, results, and their comparisons according to their accuracy and complexity. Also, I am going to include my comments & improvements for each algorithm. \n",
    "\n",
    "I am going to start with modeling and reading the data. For this purpose, I am going to read the data and create a City object with city number, X, and Y values in the each row. \n",
    "\n",
    "Let's start with City class then: "
   ]
  },
  {
   "cell_type": "code",
   "execution_count": null,
   "metadata": {},
   "outputs": [],
   "source": [
    "class City:\n",
    "    \"\"\"Class for City object. Attributes:\n",
    "    -City ID\n",
    "    -X coordinate\n",
    "    -Y coordinate\n",
    "    -Z value for Particle Swarm Optimization\n",
    "    \"\"\"\n",
    "    def __init__(self, city_id, x, y):\n",
    "        self.__city_id = city_id\n",
    "        self.__x = x\n",
    "        self.__y = y\n",
    "        self.z = city_id  # particle swarm optimization parameter\n",
    "\n",
    "    def __str__(self):\n",
    "        return self.__city_id\n",
    "\n",
    "    def __repr__(self):\n",
    "        return self.__city_id\n",
    "\n",
    "    def __eq__(self, other):\n",
    "        return self.__city_id == other.__city_id\n",
    "\n",
    "    def __lt__(self, other):\n",
    "        return self.z < other.z\n",
    "\n",
    "    def __sub__(self, other):\n",
    "        self.z -= other.z\n",
    "        return self\n",
    "\n",
    "    def __add__(self, other):\n",
    "        self.z += other.z\n",
    "        return self\n",
    "\n",
    "    def scale(self, scalar):\n",
    "        \"\"\"Scales the City's z parameter with the given scalar value.\"\"\"\n",
    "        self.z = self.z * scalar\n",
    "        return self\n",
    "\n",
    "    def get_city_id(self):\n",
    "        return self.__city_id\n",
    "\n",
    "    def get_x(self):\n",
    "        return self.__x\n",
    "\n",
    "    def get_y(self):\n",
    "        return self.__y\n",
    "\n",
    "    def distance(self, other):\n",
    "        \"\"\"Calculates the Euclidean distance between two cities.\"\"\"\n",
    "        return round(((self.__x - other.__x) ** 2 + (self.__y - other.__y) ** 2) ** (1/2))"
   ]
  },
  {
   "cell_type": "markdown",
   "metadata": {},
   "source": [
    "After that, I am going to the read the data, create the City objects, and store them in a list. For this purpose, I am going to use a helper function, txt_reader."
   ]
  },
  {
   "cell_type": "code",
   "execution_count": null,
   "metadata": {},
   "outputs": [],
   "source": [
    "def txt_reader(file_name):\n",
    "    \"\"\"Reads the given input files and store the cities.\"\"\"\n",
    "    city_list = []\n",
    "    txt_file = open(file_name, \"r\")\n",
    "    txt_file.readline()  # skip the header line\n",
    "    for line in txt_file:\n",
    "        temp_list = line.rstrip().split(\" \")\n",
    "        temp_city = City(temp_list[0], int(float(temp_list[1])), int(float(temp_list[2])))\n",
    "        city_list.append(temp_city)\n",
    "    return city_list"
   ]
  },
  {
   "cell_type": "markdown",
   "metadata": {},
   "source": [
    "Now, I can read the data and model it. \n",
    "\n",
    "Before focusing on the solutions, I am going to implement other helper functions, calc_path_distance & visualize_route. I am going to use these functions to calculate the distance of the route and visualize the route. "
   ]
  },
  {
   "cell_type": "code",
   "execution_count": null,
   "metadata": {},
   "outputs": [],
   "source": [
    "def calc_path_distance(city_list):\n",
    "    \"\"\"Calculates the distance of the TSP route.\"\"\"\n",
    "    path_distance = 0\n",
    "    for i in range(len(city_list) - 1):\n",
    "        path_distance += city_list[i].distance(city_list[i + 1])\n",
    "    path_distance += city_list[-1].distance(city_list[0])  # adds the arc between starting city & ending city.\n",
    "    return path_distance"
   ]
  },
  {
   "cell_type": "code",
   "execution_count": null,
   "metadata": {},
   "outputs": [],
   "source": [
    "import matplotlib.pyplot as plt\n",
    "from matplotlib.animation import FuncAnimation\n",
    "\n",
    "\n",
    "def visualize_route(title, route):\n",
    "    \"\"\"Visualizes the route for the TSP.\"\"\"\n",
    "    fig = plt.figure()\n",
    "    fig.suptitle(title)\n",
    "    x = []\n",
    "    y = []\n",
    "    for city in route:\n",
    "        x.append(city.get_x())\n",
    "        y.append(city.get_y())\n",
    "    x.append(route[0].get_x())\n",
    "    y.append(route[0].get_y())\n",
    "    graph, = plt.plot(x, y, 'ko')\n",
    "    graph, = plt.plot(x, y, 'darkorange')\n",
    "    \n",
    "    # Since I can not use animation on Jupyter Notebook, this part is commented.\n",
    "    #def animate(i):\n",
    "    #    graph.set_data(x[:i + 1], y[:i + 1])\n",
    "    #    return graph\n",
    "\n",
    "    #ani = FuncAnimation(fig, animate, frames=len(route) + 10, interval=500)\n",
    "    plt.show()\n",
    "    plt.show(block=True)"
   ]
  },
  {
   "cell_type": "markdown",
   "metadata": {},
   "source": [
    "Here, all the helper functions are implemented. I am going to start with the first solution, which is Nearest Neighbor."
   ]
  },
  {
   "cell_type": "markdown",
   "metadata": {},
   "source": [
    "## Nearest Neighbor\n",
    "\n",
    "The nearest neighbour algorithm was one of the first algorithms used to solve the travelling salesman problem approximately. In that problem, the salesman starts at a random city and repeatedly visits the nearest city until all have been visited. The algorithm quickly yields a short tour, but usually not the optimal one.\n",
    "\n",
    "The algorithm can be summed up with the following steps:\n",
    "\n",
    "1. Initialize all vertices as unvisited.\n",
    "2. Select an arbitrary vertex, set it as the current vertex u. Mark u as visited.\n",
    "3. Find out the shortest edge connecting the current vertex u and an unvisited vertex v.\n",
    "4. Set v as the current vertex u. Mark v as visited.\n",
    "5. If all the vertices in the domain are visited, then terminate. Else, go to step 3.\n",
    "\n",
    "I am going to implement this algorithm in three parts. \n",
    "\n",
    "Firstly, I am going to implement a function which takes a city and a city list as input; and returns the nearest city to the given city in the given city list."
   ]
  },
  {
   "cell_type": "code",
   "execution_count": null,
   "metadata": {},
   "outputs": [],
   "source": [
    "from sys import maxsize\n",
    "\n",
    "\n",
    "def nearest_neighbor(city, city_list):\n",
    "    \"\"\"Finds the nearest neighbor of a given city.\"\"\"\n",
    "    min_distance = maxsize\n",
    "    nearest_city = None\n",
    "    for c in city_list:\n",
    "        temp_distance = city.distance(c)\n",
    "        if temp_distance < min_distance:\n",
    "            min_distance = temp_distance\n",
    "            nearest_city = c\n",
    "    return nearest_city, min_distance"
   ]
  },
  {
   "cell_type": "markdown",
   "metadata": {},
   "source": [
    "Secondly, I am going to implement a function, which takes a starting city and city list as input; and returns a route (with the nearest neighbor principle) and its distance."
   ]
  },
  {
   "cell_type": "code",
   "execution_count": null,
   "metadata": {},
   "outputs": [],
   "source": [
    "def nearest_neighbor_algorithm(next_city, city_list):\n",
    "    \"\"\"Creates a route by starting with the given city & following the nearest neighbors.\"\"\"\n",
    "    copy_city_list = city_list[:]\n",
    "    path = [next_city]\n",
    "    copy_city_list.remove(next_city)\n",
    "    while copy_city_list:\n",
    "        next_step = nearest_neighbor(next_city, copy_city_list)\n",
    "        next_city = next_step[0]\n",
    "        path.append(next_city)\n",
    "        copy_city_list.remove(next_city)\n",
    "    path_distance = calc_path_distance(path)\n",
    "    path.append(path[0])  # add starting city to route, to create a cycle.\n",
    "    return path, path_distance"
   ]
  },
  {
   "cell_type": "markdown",
   "metadata": {},
   "source": [
    "Thirdly and lastly, I am going to implement a function to try all starting city alternatives for the previous function. Simply, it makes an iteration for each starting city. This function takes a city list, and returns the best route and its distance among all alternatives."
   ]
  },
  {
   "cell_type": "code",
   "execution_count": null,
   "metadata": {},
   "outputs": [],
   "source": [
    "def nna_iteration(city_list):\n",
    "    \"\"\"Finds the best route by changing the starting city.\"\"\"\n",
    "    best_path = []\n",
    "    best_distance = maxsize\n",
    "    for city in city_list:\n",
    "        result = nearest_neighbor_algorithm(city, city_list)\n",
    "        if best_distance > result[1]:\n",
    "            best_path = result[0]\n",
    "            best_distance = result[1]\n",
    "    return best_path, best_distance"
   ]
  },
  {
   "cell_type": "markdown",
   "metadata": {},
   "source": [
    "Now, I can try the Nearest Neighbor Algorithm with 51 cities."
   ]
  },
  {
   "cell_type": "code",
   "execution_count": null,
   "metadata": {},
   "outputs": [],
   "source": [
    "import time\n",
    "\n",
    "\n",
    "city_list = txt_reader(\"data/51_Cities.txt\")\n",
    "\n",
    "t0 = time.time()\n",
    "nna_result = nna_iteration(city_list)\n",
    "t1 = time.time()\n",
    "print(\"Nearest Neighbor Path: \" + str(nna_result[0]) + \"\\nNearest Neighbor Solution: \" + str(nna_result[1]) + \"\\nNearest Neighbor Elapsed Time: \" + str(round((t1 - t0), 3)) + \" seconds\")\n",
    "# visualize_route(\"Nearest Neighbor --- Solution: \" + str(nna_result[1]), nna_result[0])"
   ]
  },
  {
   "cell_type": "markdown",
   "metadata": {},
   "source": [
    "*Since, I cannot use animation on Jupyter Notebook, I am going to add a .gif for the animated result (51 Cities) for this and other solutions. \n",
    "You can run the shared source code on any IDE to see the live animated result or uncomment the visualize_route function to see the final result.*"
   ]
  },
  {
   "cell_type": "markdown",
   "metadata": {},
   "source": [
    "### Nearest Neighbor Result\n",
    "\n",
    "Result of the Nearest Neighbor can be seen below:\n",
    "\n",
    "<img align=\"left\" width=\"640\" height=\"480\" src=\"media/nna.gif\">"
   ]
  },
  {
   "cell_type": "markdown",
   "metadata": {},
   "source": [
    "**Nearest Neighbor Path:** [8, 26, 31, 28, 3, 20, 35, 36, 29, 21, 50, 9, 49, 5, 38, 11, 32, 1, 22, 2, 16, 34, 30, 10, 39, 33, 45, 15, 44, 37, 17, 4, 18, 47, 12, 46, 51, 27, 6, 48, 23, 7, 43, 24, 14, 25, 13, 41, 19, 42, 40, 8]\n",
    "\n",
    "**Nearest Neighbor Solution:** 482\n",
    "\n",
    "**Nearest Neighbor Elapsed Time:** 0.101 seconds\n",
    "\n",
    "So, there is 13.1% error compared the optimal solution; but for 51 cities, running time of this algorithm is 0.101 seconds.\n",
    "\n",
    "As it seen on the .gif, the algorithm creates the route in a greedy way, and there are multiple knots. The algorithm can be improved with following approaches:\n",
    "\n",
    "1. Untangling these knots. (Later on I am going to fuse another algorithm (2-OPT) with Nearest Neighbor to accomplish this.)\n",
    "2. Being less greedy with considering the consequences. "
   ]
  },
  {
   "cell_type": "markdown",
   "metadata": {},
   "source": [
    "## 2-OPT\n",
    "\n",
    "In optimization, 2-OPT is a simple local search algorithm for solving the traveling salesman problem. The main idea behind it is to take a route that crosses over itself and reorder it so that it does not. \n",
    "\n",
    "The algorithm can be summed up with the following steps:\n",
    "\n",
    "Let's say i & j are indexes.\n",
    "\n",
    "1. Take route[0] to route[i-1] and add them in order to new_route\n",
    "2. Take route[i] to route[j] and add them in reverse order to new_route\n",
    "3. Take route[j+1] to end and add them in order to new_route\n",
    "\n",
    "A complete 2-OPT local search will compare every possible valid combination of the swapping mechanism. This technique can be applied to the travelling salesman problem as well as many related problems.\n",
    "\n",
    "I am going to implement this algorithm in two parts.\n",
    "\n",
    "Firstly, I am going to implement a function which takes a route, i & j; and returns the new_route."
   ]
  },
  {
   "cell_type": "code",
   "execution_count": null,
   "metadata": {},
   "outputs": [],
   "source": [
    "def two_opt_swap(route, i, j):\n",
    "    \"\"\"Finds an alternative route of the given route with 2-OPT.\"\"\"\n",
    "    new_list1 = route[0:i]\n",
    "    new_list2 = route[i:j]\n",
    "    new_list2.reverse()\n",
    "    new_list3 = route[j:]\n",
    "    return new_list1 + new_list2 + new_list3"
   ]
  },
  {
   "cell_type": "markdown",
   "metadata": {},
   "source": [
    "Secondly and lastly, I am going to implement a function to compare every possible valid combination of the swapping mechanism. This function takes a route; and returns the best route and its distance among all alternatives."
   ]
  },
  {
   "cell_type": "code",
   "execution_count": null,
   "metadata": {},
   "outputs": [],
   "source": [
    "from itertools import combinations\n",
    "\n",
    "\n",
    "def two_opt(route):\n",
    "    \"\"\"Tries all alternative 2-OPT routes of the given route.\"\"\"\n",
    "    copy_route = route[:]\n",
    "    index_list = []\n",
    "    best = calc_path_distance(copy_route)\n",
    "    for i in range(len(copy_route)):\n",
    "        index_list.append(i)\n",
    "    comb_index = list(combinations(index_list, 2))  # all alternative 2-OPTs\n",
    "    i = 0\n",
    "    while i < len(comb_index):\n",
    "        temp_list = (two_opt_swap(copy_route, comb_index[i][0], comb_index[i][1]))\n",
    "        if calc_path_distance(temp_list) < best:\n",
    "            copy_route = temp_list\n",
    "            best = calc_path_distance(temp_list)\n",
    "            i = 0\n",
    "        i = i + 1\n",
    "    copy_route.append(copy_route[0])  # add starting city to route, to create a cycle.\n",
    "    return copy_route, best"
   ]
  },
  {
   "cell_type": "markdown",
   "metadata": {},
   "source": [
    "Now, I can try the 2-OPT Algorithm with 51 cities."
   ]
  },
  {
   "cell_type": "code",
   "execution_count": null,
   "metadata": {},
   "outputs": [],
   "source": [
    "t2 = time.time()\n",
    "two_opt_result = two_opt(city_list)\n",
    "t3 = time.time()\n",
    "print(\"2-OPT Path: \" + str(two_opt_result[0]) + \"\\n2-OPT Solution: \" + str(two_opt_result[1]) + \"\\n2-OPT Elapsed Time: \" + str(round((t3 - t2), 3)) + \" seconds\")\n",
    "#visualize_route(\"2-OPT --- Solution: \" + str(two_opt_result[1]), two_opt_result[0])\n"
   ]
  },
  {
   "cell_type": "markdown",
   "metadata": {},
   "source": [
    "### 2-OPT Result\n",
    "\n",
    "Result of the 2-OPT can be seen below: \n",
    "\n",
    "<img align=\"left\" width=\"640\" height=\"480\" src=\"media/2-opt.gif\">\n"
   ]
  },
  {
   "cell_type": "markdown",
   "metadata": {},
   "source": [
    "**2-OPT Path:** [46, 32, 1, 22, 28, 3, 36, 35, 20, 2, 11, 38, 5, 49, 9, 50, 16, 29, 21, 34, 30, 10, 39, 33, 45, 15, 44, 37, 17, 42, 40, 19, 41, 13, 4, 12, 47, 18, 25, 14, 6, 24, 43, 7, 23, 48, 8, 26, 31, 27, 51, 46]\n",
    "\n",
    "**2-OPT Solution:** 461\n",
    "\n",
    "**2-OPT Elapsed Time:** 2.416 seconds\n",
    "\n",
    "So, there is 8.2% error compared the optimal solution and running time of this algorithm is 2.416 seconds for 51 cities. Note that, initial route affects the running time, and same route given to the both algorithm. \n",
    "\n",
    "It can be said that, it is better than the Nearest Neighbor, but it is much slower.\n",
    "\n",
    "As it seen on the .gif, there are no knots in this algorithm; but it creates the route without considering any nearest path. So the algorithm can be improved with the following approaches:\n",
    "\n",
    "1. Feeding it with the Nearest Neighbor output, so it can also be greedy.\n",
    "2. Increasing the number of deleted edges, such as **3-OPT**, but it will be slower. "
   ]
  },
  {
   "cell_type": "markdown",
   "metadata": {},
   "source": [
    "## Nearest Neighbor + 2-OPT (Hybrid)\n",
    "\n",
    "Since I have these two algorithms, and they cover up each others weak parts; now I am going to use Nearest Neighbor's output as an input to 2-OPT.  "
   ]
  },
  {
   "cell_type": "code",
   "execution_count": null,
   "metadata": {},
   "outputs": [],
   "source": [
    "t4 = time.time()\n",
    "nna_result2 = nna_iteration(city_list)\n",
    "hybrid_result = two_opt(nna_result2[0])\n",
    "hybrid_result[0].pop()\n",
    "t5 = time.time()\n",
    "print(\"Nearest Neighbor + 2-OPT (Hybrid) Path: \" + str(hybrid_result[0]) + \"\\nHybrid Solution: \" + str(hybrid_result[1]) + \"\\nHybrid Elapsed Time: \" + str(round((t5 - t4), 3)) + \" seconds\")\n",
    "#visualize_route(\"Nearest Neighbor + 2-OPT (Hybrid) --- Solution: \" + str(hybrid_result[1]), hybrid_result[0])"
   ]
  },
  {
   "cell_type": "markdown",
   "metadata": {},
   "source": [
    "### Nearest Neighbor + 2-OPT (Hybrid) Result\n",
    "\n",
    "Result of the Hybrid can be seen below:\n",
    "\n",
    "<img align=\"left\" width=\"640\" height=\"480\" src=\"media/hybrid.gif\">"
   ]
  },
  {
   "cell_type": "markdown",
   "metadata": {},
   "source": [
    "**Hybrid Path:** [8, 26, 31, 28, 3, 36, 35, 20, 29, 2, 16, 50, 21, 34, 30, 10, 39, 33, 45, 15, 44, 42, 40, 19, 41, 13, 25, 14, 24, 43, 7, 23, 48, 6, 27, 51, 46, 12, 47, 18, 4, 17, 37, 5, 49, 9, 38, 11, 32, 1, 22, 8]\n",
    "\n",
    "**Hybrid Solution:** 428\n",
    "\n",
    "**Hybrid Elapsed Time:** 0.817 seconds\n",
    "\n",
    "So, there is 0.4% error compared the optimal solution and running time of this algorithm is 0.817 seconds for 51 cities.\n",
    "\n",
    "Since 2-OPT is feeded with an already good solution, it ran in a much shorter time compared the previous execution."
   ]
  },
  {
   "cell_type": "markdown",
   "metadata": {},
   "source": [
    "## Particle Swarm Optimization\n",
    "\n",
    "In computational science, particle swarm optimization (PSO) is a computational method that optimizes a problem by iteratively trying to improve a candidate solution with regard to a given measure of quality. \n",
    "\n",
    "It solves a problem by having a population of candidate solutions, here dubbed particles, and moving these particles around in the search-space according to simple mathematical formula over the particle's position and velocity.\n",
    "\n",
    "Each particle's movement is influenced by its local best known position, but is also guided toward the best known positions in the search-space, which are updated as better positions are found by other particles. This is expected to move the swarm toward the best solutions.\n",
    "\n",
    "Equation for the Particle Swarm Optimization can be seen below:\n",
    "\n",
    "<img align=\"left\" src=\"media/pso_eq.png\">"
   ]
  },
  {
   "cell_type": "markdown",
   "metadata": {},
   "source": [
    "And a visual representation (a particle swarm searching for the global minimum of a function) of the algorithm can be seen below:\n",
    "\n",
    "<img align=\"left\" src=\"media/pso_vis.gif\">"
   ]
  },
  {
   "cell_type": "markdown",
   "metadata": {},
   "source": [
    "To understand better, an analogy between the algorithm and bird swarms can be used. Bird swarms look for the food randomly, and when one of the birds find food, other birds will look for the food around it.\n",
    "\n",
    "To implement this algorithm, I have added a Z value to the City object, which represents the index of a city in a route. Each particle will have their own route, and they are going to minimize the distance by sharing their best personal routes in each iteration. \n",
    "\n",
    "I have implemented components of the equation and decided on the parameters with trying different parameters of different PSO variations."
   ]
  },
  {
   "cell_type": "code",
   "execution_count": null,
   "metadata": {},
   "outputs": [],
   "source": [
    "import random\n",
    "\n",
    "\n",
    "t0 = time.time()\n",
    "\n",
    "# Constants\n",
    "c1 = 1.494  # self confidence\n",
    "c2 = 1.494  # swarm confidence\n",
    "w = 0.729  # inertia weight\n",
    "\n",
    "# Iteration number and swarm size\n",
    "maxIter = 1000\n",
    "swarmSize = 500\n",
    "\n",
    "# lists for particles, their positions, and their velocities.\n",
    "p = []  # particles\n",
    "x = []  # positions of the particles\n",
    "v = []  # velocities of the particles\n",
    "\n",
    "best = [maxsize for i in range(swarmSize)]  # best values for each particle, maxsize at inital\n",
    "g = 0  # index of the global best\n",
    "\n",
    "org_city_list = txt_reader('data/51_Cities.txt')\n",
    "num_city = len(org_city_list)\n",
    "\n",
    "for i in range(swarmSize):\n",
    "    route1 = []\n",
    "    route2 = []\n",
    "    route3 = []\n",
    "    for c in range(num_city):\n",
    "        org_city = org_city_list[c]\n",
    "        city1 = City(org_city.get_city_id(), org_city.get_x(), org_city.get_y())\n",
    "        city2 = City(org_city.get_city_id(), org_city.get_x(), org_city.get_y())\n",
    "        city3 = City(org_city.get_city_id(), org_city.get_x(), org_city.get_y())\n",
    "        rand = random.random() * 50\n",
    "\n",
    "        # added a random value to create variation between initial routes of particles\n",
    "        city1.z = rand + i\n",
    "        city2.z = rand + i\n",
    "        city3.z = 0  # velocity is zero at the beginning.\n",
    "\n",
    "        route1.append(city1)\n",
    "        route2.append(city2)\n",
    "        route3.append(city3)\n",
    "\n",
    "    p.append(route1)\n",
    "    x.append(route2)\n",
    "    v.append(route3)\n",
    "\n",
    "for n in range(maxIter):\n",
    "\n",
    "    # algorithm can be improved by using a dynamic inertia weight\n",
    "    # if n < maxIter/2:\n",
    "    #     w = (0.85 - 0.55) * (maxIter/2 - n) / (maxIter/2) + 0.55\n",
    "    # else:\n",
    "    #     w = (0.85 - 0.55) * (maxIter - n) / (maxIter/2) + 0.55\n",
    "    # w = min(max(w + 0.0004,0.69),0.8)\n",
    "\n",
    "    for i in range(swarmSize):\n",
    "\n",
    "        res = calc_path_distance(sorted(x[i]))\n",
    "        if res < min(best):  # finds the global best\n",
    "            for c in range(num_city):\n",
    "                p[g][c].z = x[i][c].z\n",
    "            g = i\n",
    "\n",
    "            print('New cost: ', str(res))\n",
    "        if res < best[i]:  # finds the personal best\n",
    "            best[i] = res\n",
    "            for c in range(num_city):\n",
    "                p[i][c].z = x[i][c].z\n",
    "        for c in range(num_city):  # finds the next velocity and position of the particles\n",
    "            rand1 = random.random()\n",
    "            rand2 = random.random()\n",
    "            v[i][c].z = w * v[i][c].z + c1 * rand1 * (p[i][c].z - x[i][c].z) + c2 * rand2 * (p[g][c].z - x[i][c].z)  #next velocities\n",
    "            x[i][c].z = x[i][c].z + v[i][c].z  # next positions\n",
    "\n",
    "p[g].sort()  # sort the particles by their z value.\n",
    "p[g].append(p[g][0])  # add starting city to route, to create a cycle.\n",
    "\n",
    "t1 = time.time()\n",
    "\n",
    "print(\"Particle Swarm Optimization Path: \" + str(p[g]) + \"\\nParticle Swarm Optimization Solution: \" + str(calc_path_distance(p[g])) + \"\\nParticle Swarm Optimization Elapsed Time: \" + str(round((t1 - t0), 3)) + \" seconds\")\n",
    "#visualize_route(\"Particle Swarm Optimization --- Solution: \" + str(calc_path_distance(p[g])), p[g])"
   ]
  },
  {
   "cell_type": "markdown",
   "metadata": {},
   "source": [
    "### Particle Swarm Optimization Result\n",
    "\n",
    "Result of the Particle Swarm Optimization can be seen below:\n",
    "\n",
    "<img align=\"left\" width=\"640\" height=\"480\" src=\"media/pso_best.gif\">"
   ]
  },
  {
   "cell_type": "markdown",
   "metadata": {},
   "source": [
    "**Particle Swarm Optimization Path:** [31, 26, 7, 23, 48, 1, 32, 11, 38, 51, 12, 4, 18, 25, 13, 41, 19, 40, 42, 44, 17, 37, 15, 45, 33, 39, 10, 30, 9, 49, 5, 47, 46, 27, 6, 14, 24, 43, 8, 22, 2, 16, 50, 34, 21, 29, 20, 35, 36, 3, 28, 31]\n",
    "\n",
    "**Particle Swarm Optimization Solution:** 489\n",
    "\n",
    "**Particle Swarm Optimization Elapsed Time:** 138.369 seconds\n",
    "\n",
    "Max. iteration is 1000, swarm size is 500 for this execution. \n",
    "\n",
    "*Note that; path, solution, and running time can change in other execution since particles are starting and moving randomly.*\n",
    "\n",
    "For this execution, there is 14.7% error compared the optimal solution and running time of this algorithm is 138.369 seconds for 51 cities. It can be said that, this algorithm did not performed as good as the previous ones.\n",
    "\n",
    "The algorithm can be improved with the following approaches:\n",
    "\n",
    "1. A dynamic (according to iteration) inertia weight can be used. (Please check the commented inertia weight part in the code.)\n",
    "2. Max. iteration number and swarm size can be fine tuned.\n",
    "3. Algorithm can be fed with another algorithms output, so particles can have their starting routes with good ones, instead of random ones."
   ]
  },
  {
   "cell_type": "markdown",
   "metadata": {},
   "source": [
    "## COTS Solution (Google OR Tools)\n",
    "\n",
    "These are the Commercial-of-the-shelf solutions provided by Google OR Tools. I am not going to include codes on here, I only coded a function to fit our data to the solution, you can see it on the shared source code, google_or.py.\n",
    "\n",
    "In this part, I have explored the results with different parameters; such as First Solution Strategy parameters and Local Search options parameters, etc.\n",
    "\n",
    "Almost all the parameters in the shared link are explored: https://developers.google.com/optimization/routing/routing_options\n",
    "\n",
    "I am going to include some of the results to the report."
   ]
  },
  {
   "cell_type": "markdown",
   "metadata": {},
   "source": [
    "### COTS Solution (Google OR Tools) Result\n",
    "\n",
    "#### Guided Local Search Result (Meta-Heuristic)\n",
    "\n",
    "<img align=\"left\" width=\"640\" height=\"480\" src=\"media/gls.gif\">"
   ]
  },
  {
   "cell_type": "markdown",
   "metadata": {},
   "source": [
    "**Google OR (GUIDED LOCAL SEARCH) Path:** [1, 32, 11, 38, 5, 37, 17, 4, 18, 47, 12, 46, 51, 27, 6, 48, 23, 7, 43, 24, 14, 25, 13, 41, 40, 19, 42, 44, 15, 45, 33, 39, 10, 49, 9, 30, 34, 50, 16, 21, 29, 2, 20, 35, 36, 3, 28, 31, 26, 8, 22, 1]\n",
    "\n",
    "**Google OR (GUIDED LOCAL SEARCH) Solution:** 426\n",
    "\n",
    "**Time Limit:** 30 seconds\n",
    "\n",
    "It gives the best solution, which is 426 and there is no error for 51 cities"
   ]
  },
  {
   "cell_type": "markdown",
   "metadata": {},
   "source": [
    "#### Savings Result (Heuristic)\n",
    "\n",
    "<img align=\"left\" width=\"640\" height=\"480\" src=\"media/savings.gif\">"
   ]
  },
  {
   "cell_type": "markdown",
   "metadata": {},
   "source": [
    "**Google OR (SAVINGS) Path:** [1, 27, 6, 48, 23, 24, 43, 7, 26, 8, 31, 28, 3, 36, 35, 20, 29, 21, 16, 38, 5, 49, 9, 50, 34, 30, 10, 39, 33, 45, 15, 44, 42, 19, 40, 41, 13, 25, 14, 18, 4, 17, 37, 12, 47, 51, 46, 32, 11, 2, 22, 1] \n",
    "\n",
    "**Google OR (SAVINGS) Solution:** 436\n",
    "\n",
    "For 51 cities, there is 2.3% error compared to optimal solution."
   ]
  },
  {
   "cell_type": "markdown",
   "metadata": {},
   "source": [
    "## Conclusion\n",
    "\n"
   ]
  },
  {
   "cell_type": "markdown",
   "metadata": {},
   "source": [
    "In this project, I have solved different TSPs with different approaches. I had three different problem sets with 51 cities, 101 cities, and 130 cities. For each different problem sets, I have used following approaches and tried to deeply understand each one of them. \n",
    "\n",
    "* Nearest Neighbor\n",
    "* 2-OPT\n",
    "* Nearest Neighbor + 2-OPT (Hybrid)\n",
    "* Particle Swarm Optimization\n",
    "* COTS Solution (Google OR Tools)\n",
    "\n",
    "For each approaches, I have reported the results and added my comments to how to improve them. \n",
    "\n",
    "For the final part of this report, I am going to include a table which includes the comparisons of these approaches. \n",
    "\n",
    "*Note that, bold ones are the algorithms I have implemented, others are COTS solutions provided by Google. Algorithms are tested with 51 cities.*\n",
    "\n",
    "You can see the final comparison below: \n",
    "\n",
    "| Algorithm | Solution | Error |\n",
    "| --- | --- | --- |\n",
    "| Guided Local Search | 426 | 0 |\n",
    "| **Nearest Neighbor + 2-OPT (Hybrid)** | 428 | .46 |\n",
    "| Path Most Constrained Arc | 430 | .93 |\n",
    "| Tabu Search | 430 | .93 |\n",
    "| Global Cheapest Arc | 432 | 1.40 |\n",
    "| First Unbound Min. Value | 433 | 1.64 |\n",
    "| Local Cheapest Arc | 435 | 2.11 |\n",
    "| Savings | 436 | 2.34 |\n",
    "| Simulated Annealing | 438 | 2.81 |\n",
    "| Generic Tabu Search | 438 | 2.81 |\n",
    "| Path Cheapest Arc | 439 | 3.05 |\n",
    "| Greedy Descent | 439 | 3.05 |\n",
    "| Local Cheapest Insertion | 442 | 3.75 |\n",
    "| Christofides | 449 | 5.39 |\n",
    "| Parallel Cheapest Insertion | 450 | 5.63 |\n",
    "| **2-OPT** | 461 | 8.21 |\n",
    "| **Nearest Neighbor** | 482 | 13.14 |\n",
    "| **Particle Swarm Optimization** | 489 | 14.78 |"
   ]
  }
 ],
 "metadata": {
  "kernelspec": {
   "display_name": "Python 3",
   "language": "python",
   "name": "python3"
  },
  "language_info": {
   "codemirror_mode": {
    "name": "ipython",
    "version": 3
   },
   "file_extension": ".py",
   "mimetype": "text/x-python",
   "name": "python",
   "nbconvert_exporter": "python",
   "pygments_lexer": "ipython3",
   "version": "3.7.1"
  }
 },
 "nbformat": 4,
 "nbformat_minor": 2
}
